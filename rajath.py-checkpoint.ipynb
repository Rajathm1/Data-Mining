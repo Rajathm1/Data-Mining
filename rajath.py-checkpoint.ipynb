{
 "cells": [
  {
   "cell_type": "code",
   "execution_count": 1,
   "id": "11e23e10",
   "metadata": {},
   "outputs": [
    {
     "name": "stderr",
     "output_type": "stream",
     "text": [
      "/Users/sachinaraballi/opt/anaconda3/lib/python3.8/site-packages/IPython/core/interactiveshell.py:3165: DtypeWarning: Columns (13,43) have mixed types.Specify dtype option on import or set low_memory=False.\n",
      "  has_raised = await self.run_ast_nodes(code_ast.body, cell_name,\n"
     ]
    },
    {
     "data": {
      "text/html": [
       "<div>\n",
       "<style scoped>\n",
       "    .dataframe tbody tr th:only-of-type {\n",
       "        vertical-align: middle;\n",
       "    }\n",
       "\n",
       "    .dataframe tbody tr th {\n",
       "        vertical-align: top;\n",
       "    }\n",
       "\n",
       "    .dataframe thead th {\n",
       "        text-align: right;\n",
       "    }\n",
       "</style>\n",
       "<table border=\"1\" class=\"dataframe\">\n",
       "  <thead>\n",
       "    <tr style=\"text-align: right;\">\n",
       "      <th></th>\n",
       "      <th>Date</th>\n",
       "      <th>Time</th>\n",
       "      <th>Alarm</th>\n",
       "    </tr>\n",
       "  </thead>\n",
       "  <tbody>\n",
       "    <tr>\n",
       "      <th>20449</th>\n",
       "      <td>11/4/2017</td>\n",
       "      <td>17:36:46</td>\n",
       "      <td>AUTO MODE ACTIVE PLGM OFF</td>\n",
       "    </tr>\n",
       "    <tr>\n",
       "      <th>40131</th>\n",
       "      <td>8/9/2017</td>\n",
       "      <td>8:07:13</td>\n",
       "      <td>AUTO MODE ACTIVE PLGM OFF</td>\n",
       "    </tr>\n",
       "  </tbody>\n",
       "</table>\n",
       "</div>"
      ],
      "text/plain": [
       "            Date      Time                      Alarm\n",
       "20449  11/4/2017  17:36:46  AUTO MODE ACTIVE PLGM OFF\n",
       "40131   8/9/2017   8:07:13  AUTO MODE ACTIVE PLGM OFF"
      ]
     },
     "execution_count": 1,
     "metadata": {},
     "output_type": "execute_result"
    }
   ],
   "source": [
    "import pandas as pd\n",
    "\n",
    "insulin_data = pd.read_csv('InsulinData.csv')\n",
    "insulin_data = insulin_data[['Date','Time','Alarm']]\n",
    "insulin_data = insulin_data.loc[insulin_data['Alarm'] == 'AUTO MODE ACTIVE PLGM OFF']\n"
   ]
  },
  {
   "cell_type": "code",
   "execution_count": 3,
   "id": "62bc4e44",
   "metadata": {},
   "outputs": [
    {
     "name": "stdout",
     "output_type": "stream",
     "text": [
      "11/4/2017 17:36:46\n"
     ]
    }
   ],
   "source": [
    "auto_mode_start_date = insulin_data.iat[0,0]\n",
    "auto_mode_start_time = insulin_data.iat[0,1]\n",
    "print(auto_mode_start_date,auto_mode_start_time)"
   ]
  },
  {
   "cell_type": "code",
   "execution_count": 5,
   "id": "44f72bd4",
   "metadata": {},
   "outputs": [
    {
     "name": "stderr",
     "output_type": "stream",
     "text": [
      "/Users/sachinaraballi/opt/anaconda3/lib/python3.8/site-packages/IPython/core/interactiveshell.py:3165: DtypeWarning: Columns (32) have mixed types.Specify dtype option on import or set low_memory=False.\n",
      "  has_raised = await self.run_ast_nodes(code_ast.body, cell_name,\n"
     ]
    },
    {
     "data": {
      "text/html": [
       "<div>\n",
       "<style scoped>\n",
       "    .dataframe tbody tr th:only-of-type {\n",
       "        vertical-align: middle;\n",
       "    }\n",
       "\n",
       "    .dataframe tbody tr th {\n",
       "        vertical-align: top;\n",
       "    }\n",
       "\n",
       "    .dataframe thead th {\n",
       "        text-align: right;\n",
       "    }\n",
       "</style>\n",
       "<table border=\"1\" class=\"dataframe\">\n",
       "  <thead>\n",
       "    <tr style=\"text-align: right;\">\n",
       "      <th></th>\n",
       "      <th>Date</th>\n",
       "      <th>Time</th>\n",
       "      <th>Sensor Glucose (mg/dL)</th>\n",
       "    </tr>\n",
       "  </thead>\n",
       "  <tbody>\n",
       "    <tr>\n",
       "      <th>0</th>\n",
       "      <td>2/12/2018</td>\n",
       "      <td>13:22:27</td>\n",
       "      <td>118.0</td>\n",
       "    </tr>\n",
       "    <tr>\n",
       "      <th>1</th>\n",
       "      <td>2/12/2018</td>\n",
       "      <td>13:17:27</td>\n",
       "      <td>122.0</td>\n",
       "    </tr>\n",
       "    <tr>\n",
       "      <th>2</th>\n",
       "      <td>2/12/2018</td>\n",
       "      <td>13:12:27</td>\n",
       "      <td>NaN</td>\n",
       "    </tr>\n",
       "    <tr>\n",
       "      <th>3</th>\n",
       "      <td>2/12/2018</td>\n",
       "      <td>13:07:27</td>\n",
       "      <td>NaN</td>\n",
       "    </tr>\n",
       "    <tr>\n",
       "      <th>4</th>\n",
       "      <td>2/12/2018</td>\n",
       "      <td>13:02:27</td>\n",
       "      <td>NaN</td>\n",
       "    </tr>\n",
       "    <tr>\n",
       "      <th>...</th>\n",
       "      <td>...</td>\n",
       "      <td>...</td>\n",
       "      <td>...</td>\n",
       "    </tr>\n",
       "    <tr>\n",
       "      <th>55338</th>\n",
       "      <td>7/25/2017</td>\n",
       "      <td>12:28:54</td>\n",
       "      <td>311.0</td>\n",
       "    </tr>\n",
       "    <tr>\n",
       "      <th>55339</th>\n",
       "      <td>7/25/2017</td>\n",
       "      <td>12:23:54</td>\n",
       "      <td>311.0</td>\n",
       "    </tr>\n",
       "    <tr>\n",
       "      <th>55340</th>\n",
       "      <td>7/25/2017</td>\n",
       "      <td>12:18:54</td>\n",
       "      <td>309.0</td>\n",
       "    </tr>\n",
       "    <tr>\n",
       "      <th>55341</th>\n",
       "      <td>7/25/2017</td>\n",
       "      <td>12:13:54</td>\n",
       "      <td>310.0</td>\n",
       "    </tr>\n",
       "    <tr>\n",
       "      <th>55342</th>\n",
       "      <td>7/25/2017</td>\n",
       "      <td>12:08:54</td>\n",
       "      <td>314.0</td>\n",
       "    </tr>\n",
       "  </tbody>\n",
       "</table>\n",
       "<p>55343 rows × 3 columns</p>\n",
       "</div>"
      ],
      "text/plain": [
       "            Date      Time  Sensor Glucose (mg/dL)\n",
       "0      2/12/2018  13:22:27                   118.0\n",
       "1      2/12/2018  13:17:27                   122.0\n",
       "2      2/12/2018  13:12:27                     NaN\n",
       "3      2/12/2018  13:07:27                     NaN\n",
       "4      2/12/2018  13:02:27                     NaN\n",
       "...          ...       ...                     ...\n",
       "55338  7/25/2017  12:28:54                   311.0\n",
       "55339  7/25/2017  12:23:54                   311.0\n",
       "55340  7/25/2017  12:18:54                   309.0\n",
       "55341  7/25/2017  12:13:54                   310.0\n",
       "55342  7/25/2017  12:08:54                   314.0\n",
       "\n",
       "[55343 rows x 3 columns]"
      ]
     },
     "execution_count": 5,
     "metadata": {},
     "output_type": "execute_result"
    }
   ],
   "source": [
    "cgm_data = pd.read_csv('CGMData.csv')\n",
    "cgm_data = cgm_data[['Date','Time', 'Sensor Glucose (mg/dL)']]\n",
    "cgm_data"
   ]
  },
  {
   "cell_type": "code",
   "execution_count": 35,
   "id": "0dd1867b",
   "metadata": {},
   "outputs": [],
   "source": [
    "import datetime \n",
    "cgm_data[['month','day','year']] = cgm_data.Date.str.split('/',expand=True)\n",
    "cgm_data[['hour','minute','seconds']] = cgm_data.Time.str.split(':',expand=True)"
   ]
  },
  {
   "cell_type": "code",
   "execution_count": 64,
   "id": "d02c846b",
   "metadata": {},
   "outputs": [
    {
     "name": "stdout",
     "output_type": "stream",
     "text": [
      "11 4 2017 17 36 46\n"
     ]
    },
    {
     "data": {
      "text/plain": [
       "datetime.datetime(2017, 11, 4, 17, 36, 46)"
      ]
     },
     "execution_count": 64,
     "metadata": {},
     "output_type": "execute_result"
    }
   ],
   "source": [
    "month = auto_mode_start_date.split('/')[0]\n",
    "day = auto_mode_start_date.split('/')[1]\n",
    "year = auto_mode_start_date.split('/')[2]\n",
    "hour = auto_mode_start_time.split(':')[0]\n",
    "minute = auto_mode_start_time.split(':')[1]\n",
    "seconds = auto_mode_start_time.split(':')[2]\n",
    "print(month, day, year, hour, minute, seconds)\n",
    "autom_mode_date_time = datetime.datetime(int(year), int(month), int(day), int(hour), int(minute), int(seconds))\n",
    "autom_mode_date_time"
   ]
  },
  {
   "cell_type": "code",
   "execution_count": 123,
   "id": "50f204c4",
   "metadata": {},
   "outputs": [
    {
     "name": "stdout",
     "output_type": "stream",
     "text": [
      "26010\n",
      "29333\n",
      "13901\n",
      "41247\n",
      "55149\n",
      "194\n",
      "1.4762481253275026 0.18430515150967602 9.549536526751352 8.094971360424987 0.2981406862656523 0.09938022875521746\n"
     ]
    }
   ],
   "source": [
    "auto_mode_count = 0\n",
    "manual_mode_count = 0\n",
    "overnight_count = 0\n",
    "daytime_count = 0\n",
    "wholeday_count = 0\n",
    "prev_day = cgm_data['Date'].iloc[0]\n",
    "cur_day = None\n",
    "six_hours = datetime.datetime(2000, 1, 1, 6, 0, 0).time()\n",
    "twelve_hours = datetime.datetime(2000, 1, 1, 0, 0, 0).time()\n",
    "twenty_four_hours = datetime.datetime(2000, 1, 1, 23, 59, 59).time()\n",
    "overnight_auto_mode_sum1 = 0\n",
    "overnight_auto_mode_sum2 = 0\n",
    "overnight_auto_mode_sum3 = 0\n",
    "overnight_auto_mode_sum4 = 0\n",
    "overnight_auto_mode_sum5 = 0\n",
    "overnight_auto_mode_sum6 = 0\n",
    "overnight_auto_mode_sum_sum1 = 0\n",
    "overnight_auto_mode_sum_sum2 = 0\n",
    "overnight_auto_mode_sum_sum3 = 0\n",
    "overnight_auto_mode_sum_sum4 = 0\n",
    "overnight_auto_mode_sum_sum5 = 0\n",
    "overnight_auto_mode_sum_sum6 = 0\n",
    "count = 0\n",
    "for index, row in cgm_data.iterrows():\n",
    "    date_time = datetime.datetime(int(row['year']), int(row['month']), int(row['day']), int(row['hour']), int(row['minute']), int(row['seconds']))\n",
    "    cur_day = row['Date']\n",
    "    glucose = row['Sensor Glucose (mg/dL)']\n",
    "    if(date_time > autom_mode_date_time):\n",
    "        #auto_mode code\n",
    "     if(prev_day == cur_day):\n",
    "      #wholeday\n",
    "      wholeday_count+=1\n",
    "      if(date_time.time() > twelve_hours and date_time.time() <= six_hours):\n",
    "      #overnight    \n",
    "       if(glucose > 180) :\n",
    "            overnight_auto_mode_sum1 += 1\n",
    "       if(glucose > 250) :\n",
    "            overnight_auto_mode_sum2 += 1\n",
    "       if(glucose >= 70 and glucose <= 180) :\n",
    "           overnight_auto_mode_sum3 += 1\n",
    "       if(glucose >= 70 and glucose <= 150) :\n",
    "           overnight_auto_mode_sum4 += 1\n",
    "       if(glucose < 70) :\n",
    "           overnight_auto_mode_sum5 += 1\n",
    "       if(glucose < 54) :\n",
    "           overnight_auto_mode_sum6 += 1\n",
    "       overnight_count += 1\n",
    "      if(date_time.time() > six_hours and date_time.time() <= twenty_four_hours):\n",
    "      #daytime\n",
    "       daytime_count +=1\n",
    "     else:\n",
    "      count+=1\n",
    "      overnight_auto_mode_sum_sum1 += overnight_auto_mode_sum1/288\n",
    "      overnight_auto_mode_sum_sum2 += overnight_auto_mode_sum2/288\n",
    "      overnight_auto_mode_sum_sum3 += overnight_auto_mode_sum3/288\n",
    "      overnight_auto_mode_sum_sum4 += overnight_auto_mode_sum4/288\n",
    "      overnight_auto_mode_sum_sum5 += overnight_auto_mode_sum5/288\n",
    "      overnight_auto_mode_sum_sum6 += overnight_auto_mode_sum6/288\n",
    "      overnight_auto_mode_sum1 = 0\n",
    "      overnight_auto_mode_sum2 = 0\n",
    "      overnight_auto_mode_sum3 = 0\n",
    "      overnight_auto_mode_sum4 = 0\n",
    "      overnight_auto_mode_sum5 = 0\n",
    "      overnight_auto_mode_sum6 = 0\n",
    "      \n",
    "     auto_mode_count+=1    \n",
    "    else:\n",
    "        #manual_mode code\n",
    "     if(prev_day == cur_day):\n",
    "      #wholeday\n",
    "      wholeday_count+=1\n",
    "      if(date_time.time() > twelve_hours and date_time.time() <= six_hours):\n",
    "      #overnight\n",
    "       overnight_count += 1\n",
    "      if(date_time.time() > six_hours and date_time.time() <= twenty_four_hours):\n",
    "      #daytime\n",
    "       daytime_count +=1\n",
    "     else:\n",
    "      count+=1\n",
    "     manual_mode_count+=1\n",
    "     \n",
    "    prev_day = cur_day\n",
    "    \n",
    "print(auto_mode_count)\n",
    "print(manual_mode_count)\n",
    "print(overnight_count)\n",
    "print(daytime_count)\n",
    "print(wholeday_count)\n",
    "print(count)\n",
    "\n",
    "totaldays = len(cgm_data)/288\n",
    "overnight_auto_mode_sum_sum1 = overnight_auto_mode_sum_sum1/totaldays*100\n",
    "overnight_auto_mode_sum_sum2 = overnight_auto_mode_sum_sum2/totaldays*100\n",
    "overnight_auto_mode_sum_sum3 = overnight_auto_mode_sum_sum3/totaldays*100\n",
    "overnight_auto_mode_sum_sum4 = overnight_auto_mode_sum_sum4/totaldays*100\n",
    "overnight_auto_mode_sum_sum5 = overnight_auto_mode_sum_sum5/totaldays*100\n",
    "overnight_auto_mode_sum_sum6 = overnight_auto_mode_sum_sum6/totaldays*100\n",
    "print(overnight_auto_mode_sum_sum1, overnight_auto_mode_sum_sum2,overnight_auto_mode_sum_sum3,overnight_auto_mode_sum_sum4,overnight_auto_mode_sum_sum5,overnight_auto_mode_sum_sum6)\n",
    "\n"
   ]
  },
  {
   "cell_type": "code",
   "execution_count": 110,
   "id": "fe29fc9b",
   "metadata": {},
   "outputs": [
    {
     "name": "stdout",
     "output_type": "stream",
     "text": [
      "1 1 do somthinf\n",
      "1 1 do somthinf\n",
      "1 2 changed\n",
      "2 2 do somthinf\n",
      "2 2 do somthinf\n",
      "2 3 changed\n",
      "3 3 do somthinf\n",
      "3 3 do somthinf\n"
     ]
    }
   ],
   "source": [
    "a = [1,1,2,2,2,3,3,3]\n",
    "cur = 0\n",
    "prev = 1\n",
    "count = 0\n",
    "for index in range(len(a)):\n",
    "    cur = a[index]\n",
    "    if(prev != cur):\n",
    "     print(prev, cur, 'changed')\n",
    "    else:\n",
    "     print(prev, cur, 'do somthinf')\n",
    "    prev = cur"
   ]
  },
  {
   "cell_type": "code",
   "execution_count": null,
   "id": "09d755a8",
   "metadata": {},
   "outputs": [],
   "source": []
  }
 ],
 "metadata": {
  "kernelspec": {
   "display_name": "Python 3",
   "language": "python",
   "name": "python3"
  },
  "language_info": {
   "codemirror_mode": {
    "name": "ipython",
    "version": 3
   },
   "file_extension": ".py",
   "mimetype": "text/x-python",
   "name": "python",
   "nbconvert_exporter": "python",
   "pygments_lexer": "ipython3",
   "version": "3.8.8"
  }
 },
 "nbformat": 4,
 "nbformat_minor": 5
}
